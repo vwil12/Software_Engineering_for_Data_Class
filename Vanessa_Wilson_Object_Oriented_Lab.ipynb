{
 "cells": [
  {
   "cell_type": "markdown",
   "metadata": {},
   "source": [
    "# Object-Oriented Python\n",
    "\n",
    "Object-oriented programming (OOP) is a way of writing programs that represent real-world problem spaces (in terms of objects, functions, classes, attributes, methods, and inheritance). As Allen Downey explains in [__Think Python__](http://www.greenteapress.com/thinkpython/html/thinkpython018.html), in object-oriented programming, we shift away from framing the *function* as the active agent and toward seeing the *object* as the active agent.\n",
    "\n",
    "In this workshop, we are going to create a class that represents the rational numbers. This tutorial was originally adapted by [Rebecca Bilbro](https://github.com/rebeccabilbro/Tutorials/tree/master/OOP) from content in Anand Chitipothu's [__Python Practice Book__](http://anandology.com/python-practice-book/index.html). \n",
    "\n",
    "## Classes, methods, modules, and packages.\n",
    "\n",
    "In our workshop we will modify the code in this Jupyter notebook by filling in the missing functionality.  We have a `Rationalnumber` class which can be used to make objects of type... `RationalNumber`.  These are basically fractions and we can leverage the built-ins in Python to take two objects of this type and add, multiply, subtract, or divide using traditional math operations such as `+`, `*`, `-`, and `/`.\n",
    "\n",
    "As you add code you can \"execute\" the notebook cell to check your results.\n",
    "\n",
    "It may help to review [built-ins in Python](https://docs.python.org/3/library/functions.html) and the [Python data model](https://docs.python.org/3/reference/datamodel.html)."
   ]
  },
  {
   "cell_type": "code",
   "execution_count": 7,
   "metadata": {
    "scrolled": true
   },
   "outputs": [],
   "source": [
    "class RationalNumber:\n",
    "    \"\"\"Any number that can be expressed as the quotient or fraction p/q \n",
    "    of two integers, p and q, with the denominator q not equal to zero. \n",
    "    \n",
    "    Since q may be equal to 1, every integer is a rational number.\n",
    "    \"\"\"\n",
    "    \n",
    "    def __init__(self, numerator, denominator=1):\n",
    "        self.n = numerator\n",
    "        self.d = denominator\n",
    "\n",
    "    def __add__(self, other):\n",
    "        # allows for the addition of two rational numbers; We did this one for you!\n",
    "        if not isinstance(other, RationalNumber):\n",
    "            other = RationalNumber(other)\n",
    "\n",
    "        n = self.n * other.d + self.d * other.n\n",
    "        d = self.d * other.d\n",
    "        return RationalNumber(n, d)\n",
    "        \n",
    "    def __sub__(self, other):\n",
    "        # Write a function that allows for the subtraction of two rational numbers.\n",
    "        pass\n",
    "        if not isinstance(other, RationalNumber):\n",
    "            other = RationalNumber(other)\n",
    "\n",
    "        n = self.n * other.d - self.d * other.n\n",
    "        d = self.d * other.d\n",
    "        return RationalNumber(n, d)\n",
    "        \n",
    "        \n",
    "    def __mul__(self, other):\n",
    "        # Write a function that allows for the multiplication of two rational numbers.\n",
    "        pass\n",
    "        if not isinstance(other, RationalNumber):\n",
    "            other = RationalNumber(other)\n",
    "\n",
    "        n = self.n * other.n\n",
    "        d = self.d * other.d\n",
    "        return RationalNumber(n, d)\n",
    "        \n",
    "        \n",
    "    def __truediv__(self, other):\n",
    "        # Write a function that allows for the division of two rational numbers.\n",
    "        pass\n",
    "        if not isinstance(other, RationalNumber):\n",
    "            other = RationalNumber(other)\n",
    "\n",
    "        n = self.n * other.d\n",
    "        d = self.d * other.n\n",
    "        return RationalNumber(n, d)\n",
    "        \n",
    "    def __str__(self):\n",
    "        return \"%s/%s\" % (self.n, self.d)\n",
    "\n",
    "    __repr__ = __str__\n",
    "    "
   ]
  },
  {
   "cell_type": "markdown",
   "metadata": {},
   "source": [
    "Edit, and then execute the cell above to update the class definition with your own code.  Then, execute the cell below to test your changes.  The cell below should not be edited and will be used for grading your submission. Once you have correct answers shown below you're done!"
   ]
  },
  {
   "cell_type": "code",
   "execution_count": 8,
   "metadata": {},
   "outputs": [
    {
     "name": "stdout",
     "output_type": "stream",
     "text": [
      "The first number is 1/2\n",
      "The second number is 3/2\n",
      "\n",
      "Their sum is 8/4\n",
      "Their product is 3/4\n",
      "Their difference is -4/4\n",
      "Their quotient is 2/6\n"
     ]
    }
   ],
   "source": [
    "# Let's create two RationalNumber variables to represent the values 1/2 and 3/2    \n",
    "x = RationalNumber(1,2)\n",
    "y = RationalNumber(3,2)\n",
    "print (\"The first number is {!s}\".format(x))\n",
    "print (\"The second number is {!s}\\n\".format(y))\n",
    "\n",
    "# Now let's test our math operations\n",
    "print (\"Their sum is {!s}\".format(x+y))\n",
    "print (\"Their product is {!s}\".format(x*y))\n",
    "print (\"Their difference is {!s}\".format(x-y))\n",
    "print (\"Their quotient is {!s}\".format(x/y))"
   ]
  },
  {
   "cell_type": "markdown",
   "metadata": {},
   "source": [
    "(hint)       \n",
    "\n",
    "|Operation      |Method                      |\n",
    "|---------------|----------------------------|\n",
    "|Addition       |(a/b) + (c/d) = (ad + bc)/bd|\n",
    "|Subtraction    |(a/b) - (c/d) = (ad - bc)/bd|\n",
    "|Multiplication |(a/b) x (c/d) = ac/bd       |\n",
    "|Division       |(a/b) / (c/d) = ad/bc       |"
   ]
  },
  {
   "cell_type": "code",
   "execution_count": null,
   "metadata": {},
   "outputs": [],
   "source": []
  }
 ],
 "metadata": {
  "kernelspec": {
   "display_name": "Python 3 (ipykernel)",
   "language": "python",
   "name": "python3"
  },
  "language_info": {
   "codemirror_mode": {
    "name": "ipython",
    "version": 3
   },
   "file_extension": ".py",
   "mimetype": "text/x-python",
   "name": "python",
   "nbconvert_exporter": "python",
   "pygments_lexer": "ipython3",
   "version": "3.12.4"
  },
  "vscode": {
   "interpreter": {
    "hash": "d474be476f0a6db94789ad08b16ede00cb8654a4c727ed769fba79dc07ed6ebd"
   }
  }
 },
 "nbformat": 4,
 "nbformat_minor": 1
}
